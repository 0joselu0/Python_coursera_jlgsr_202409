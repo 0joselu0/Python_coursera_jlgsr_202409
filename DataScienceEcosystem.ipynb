{
 "cells": [
  {
   "cell_type": "markdown",
   "id": "242d6c86-d9b5-498f-b5c2-cc102a7e994b",
   "metadata": {},
   "source": [
    "# Data Science Tools and Ecosystem\n",
    "\n",
    "\n",
    "\n"
   ]
  },
  {
   "cell_type": "markdown",
   "id": "6e2ec835-a190-484b-8ed2-54f8badcce3f",
   "metadata": {},
   "source": [
    "In this notebook, Data Science Tools and Ecosystem are summarized."
   ]
  },
  {
   "cell_type": "markdown",
   "id": "057e77a6-0537-4267-9626-931db0cc3a3a",
   "metadata": {},
   "source": [
    "**Objectives:**\n",
    "* List popular languages for Data Science\n",
    "* List commonly used libraries used by Data Scientists\n",
    "* Perform simple arithmetic operations\n",
    "\n"
   ]
  },
  {
   "cell_type": "markdown",
   "id": "d42487eb-6c64-48ff-83a7-7b9a01cff9aa",
   "metadata": {},
   "source": [
    "Some of the popular languages that Data Scientists use are:\n",
    "1. Python\n",
    "2. R\n",
    "3. SQL"
   ]
  },
  {
   "cell_type": "markdown",
   "id": "8484ec94-6174-4521-a45b-919eb41486f1",
   "metadata": {},
   "source": [
    "|Data Science Tools|\n",
    "---\n",
    "|Jupyter Notebooks|\n",
    "|Anaconda|\n",
    "|Kanime|\n"
   ]
  },
  {
   "cell_type": "markdown",
   "id": "e9631aac-3d57-48e0-a71a-da5897f122e1",
   "metadata": {},
   "source": [
    "Some of the commonly used libraries used by Data Scientists include:\n",
    "1. Numpy\n",
    "2. Matplotlib\n",
    "3. Pandas\n",
    "4. SciPy\n",
    "5. PyTorch\n",
    "6. Seaborn"
   ]
  },
  {
   "cell_type": "markdown",
   "id": "10bd1ced-747d-46d7-b5a2-30abc431564d",
   "metadata": {},
   "source": [
    "### Below are a few examples of evaluating arithmetic expressions in Python\n"
   ]
  },
  {
   "cell_type": "code",
   "execution_count": 2,
   "id": "ec11a950-cf6b-4dcf-ac8e-f452cf8a7563",
   "metadata": {
    "tags": []
   },
   "outputs": [
    {
     "data": {
      "text/plain": [
       "17"
      ]
     },
     "execution_count": 2,
     "metadata": {},
     "output_type": "execute_result"
    }
   ],
   "source": [
    "#This a simple arithmetic expression to mutiply then add integers\n",
    "(3*4)+5"
   ]
  },
  {
   "cell_type": "code",
   "execution_count": 3,
   "id": "b083c362-6cf4-4db8-848b-bfe7bada2ee6",
   "metadata": {
    "tags": []
   },
   "outputs": [
    {
     "data": {
      "text/plain": [
       "3.3333333333333335"
      ]
     },
     "execution_count": 3,
     "metadata": {},
     "output_type": "execute_result"
    }
   ],
   "source": [
    "#This will convert 200 minutes to hours by diving by 60\n",
    "200/60"
   ]
  },
  {
   "cell_type": "markdown",
   "id": "b3d5ae30-12d0-4f50-b0dc-a1219b82aa34",
   "metadata": {
    "tags": []
   },
   "source": [
    "## Author\n",
    "Jose Luis Garcia"
   ]
  },
  {
   "cell_type": "code",
   "execution_count": null,
   "id": "ef3440a4-e907-4631-93d1-3569e13768f6",
   "metadata": {},
   "outputs": [],
   "source": []
  }
 ],
 "metadata": {
  "kernelspec": {
   "display_name": "Python",
   "language": "python",
   "name": "conda-env-python-py"
  },
  "language_info": {
   "codemirror_mode": {
    "name": "ipython",
    "version": 3
   },
   "file_extension": ".py",
   "mimetype": "text/x-python",
   "name": "python",
   "nbconvert_exporter": "python",
   "pygments_lexer": "ipython3",
   "version": "3.7.12"
  },
  "toc-autonumbering": false,
  "toc-showcode": true,
  "toc-showmarkdowntxt": true
 },
 "nbformat": 4,
 "nbformat_minor": 5
}
